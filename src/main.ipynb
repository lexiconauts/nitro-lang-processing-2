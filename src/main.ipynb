{
 "cells": [
  {
   "cell_type": "code",
   "execution_count": 1,
   "metadata": {},
   "outputs": [],
   "source": [
    "%load_ext autoreload\n",
    "%autoreload 2"
   ]
  },
  {
   "attachments": {},
   "cell_type": "markdown",
   "metadata": {},
   "source": [
    "Dependencies"
   ]
  },
  {
   "cell_type": "code",
   "execution_count": 2,
   "metadata": {},
   "outputs": [],
   "source": [
    "import pathlib as pb\n",
    "\n",
    "# Environment\n",
    "ROOT_PATH = pb.Path('..')\n",
    "DATA_DIR_PATH = ROOT_PATH / 'data'\n",
    "CACHE_DIR_PATH = ROOT_PATH / '.cache'\n",
    "TRANSFORMERS_CACHE_DIR_PATH = CACHE_DIR_PATH / 'transformers'\n",
    "DATASETS_CACHE_DIR_PATH = CACHE_DIR_PATH / 'datasets'\n",
    "TEST_DATA_FILE = DATA_DIR_PATH / 'test_data.csv'\n",
    "TRAIN_DATA_FILE = DATA_DIR_PATH / 'train_data.csv'\n",
    "SUBMISSIONS_DIR_PATH = ROOT_PATH / 'submissions'"
   ]
  },
  {
   "cell_type": "code",
   "execution_count": 3,
   "metadata": {},
   "outputs": [],
   "source": [
    "import os\n",
    "\n",
    "os.environ['TRANSFORMERS_CACHE'] = str(TRANSFORMERS_CACHE_DIR_PATH)\n",
    "os.environ['HF_DATASETS_CACHE'] = str(DATASETS_CACHE_DIR_PATH)\n",
    "os.environ['CUBLAS_WORKSPACE_CONFIG'] = ':4096:8'\n",
    "os.environ['TOKENIZERS_PARALLELISM'] = 'true'\n",
    "os.environ['PROTOCOL_BUFFERS_PYTHON_IMPLEMENTATION'] = 'python'"
   ]
  },
  {
   "cell_type": "code",
   "execution_count": 4,
   "metadata": {},
   "outputs": [
    {
     "name": "stderr",
     "output_type": "stream",
     "text": [
      "/home/invokariman/Projects/git/nitro-lang-processing-2/.cache/pypoetry/virtualenvs/nitro-lang-processing-2-mFR9zZTH-py3.10/lib/python3.10/site-packages/tqdm/auto.py:21: TqdmWarning: IProgress not found. Please update jupyter and ipywidgets. See https://ipywidgets.readthedocs.io/en/stable/user_install.html\n",
      "  from .autonotebook import tqdm as notebook_tqdm\n"
     ]
    }
   ],
   "source": [
    "from transformers import AutoTokenizer, AutoModel\n",
    "import torch\n",
    "import torchdata\n",
    "import torchtext\n",
    "from torch import Tensor\n",
    "from torch import nn\n",
    "from torch import optim\n",
    "from torch.utils.data import Subset, DataLoader, Dataset, WeightedRandomSampler\n",
    "from torch import backends\n",
    "import typing\n",
    "import pathlib as pb\n",
    "import os\n",
    "import gc\n",
    "from typing import List, Tuple, Dict, Set, Callable, Any\n",
    "import random\n",
    "import numpy as np\n",
    "import pandas as pd\n",
    "import platform\n",
    "import matplotlib.pyplot as plt\n",
    "import sklearn\n",
    "from sklearn.model_selection import KFold, StratifiedKFold\n",
    "from sklearn.metrics import balanced_accuracy_score, accuracy_score"
   ]
  },
  {
   "cell_type": "code",
   "execution_count": 5,
   "metadata": {},
   "outputs": [],
   "source": [
    "from utils import get_available_device, read_data, silence_warnings\n",
    "from preprocess import BERTPreprocessor, MT5Preprocessor, RobertPreprocessor\n",
    "from data import SexismDataset\n",
    "from models import Args, Output, Ensemble, RoBertFlatClassModel, BertFlatClassModel, MT5FlatClassModel\n",
    "from train import evaluate, train"
   ]
  },
  {
   "attachments": {},
   "cell_type": "markdown",
   "metadata": {},
   "source": [
    "Environment Setup"
   ]
  },
  {
   "cell_type": "code",
   "execution_count": 6,
   "metadata": {},
   "outputs": [],
   "source": [
    "# Use available GPU\n",
    "DEVICE: torch.device = get_available_device()\n",
    "\n",
    "# Deterministic experiments\n",
    "SEED = 61\n",
    "random.seed(SEED)\n",
    "np.random.seed(SEED)\n",
    "np.random.RandomState(SEED)\n",
    "torch.manual_seed(SEED)\n",
    "torch.use_deterministic_algorithms(True)\n",
    "\n",
    "# Adjust package settings\n",
    "silence_warnings()"
   ]
  },
  {
   "attachments": {},
   "cell_type": "markdown",
   "metadata": {},
   "source": [
    "Dataset & Preprocessing"
   ]
  },
  {
   "cell_type": "code",
   "execution_count": 7,
   "metadata": {},
   "outputs": [],
   "source": [
    "# Load raw dataset\n",
    "train_data_raw, test_data_raw = read_data(DATA_DIR_PATH)\n",
    "\n",
    "# Initialize custom pretraiend preprocessor\n",
    "preprocessor = RobertPreprocessor()\n",
    "\n",
    "# Create and preprocess the datasets\n",
    "train_dataset = SexismDataset(train_data_raw, preprocessor)\n",
    "test_dataset = SexismDataset(test_data_raw, preprocessor)"
   ]
  },
  {
   "cell_type": "code",
   "execution_count": 8,
   "metadata": {},
   "outputs": [
    {
     "data": {
      "text/plain": [
       "(tensor([0.9444, 0.9613, 0.9944, 0.2106, 0.8893]),\n",
       " {0: tensor(0.0005),\n",
       "  1: tensor(0.0007),\n",
       "  2: tensor(0.0045),\n",
       "  3: tensor(3.2438e-05),\n",
       "  4: tensor(0.0002)})"
      ]
     },
     "execution_count": 8,
     "metadata": {},
     "output_type": "execute_result"
    }
   ],
   "source": [
    "train_dataset.weights, train_dataset.class_to_freq"
   ]
  },
  {
   "attachments": {},
   "cell_type": "markdown",
   "metadata": {},
   "source": [
    "Model Setup"
   ]
  },
  {
   "cell_type": "code",
   "execution_count": 9,
   "metadata": {},
   "outputs": [],
   "source": [
    "# Keep the training setup separately\n",
    "args = Args()\n",
    "model_factory: Callable[[], nn.Module] = lambda: torch.compile(RoBertFlatClassModel()).to(DEVICE)\n",
    "optim_factory: Callable[..., optim.Optimizer] = lambda params: optim.AdamW(params, lr=args.learning_rate, weight_decay=args.weight_decay)\n",
    "loss_fn = nn.CrossEntropyLoss(weight=train_dataset.weights.to(DEVICE))"
   ]
  },
  {
   "attachments": {},
   "cell_type": "markdown",
   "metadata": {},
   "source": [
    "HyperParameter Tuning using K-Fold Cross-Validation"
   ]
  },
  {
   "cell_type": "code",
   "execution_count": 10,
   "metadata": {},
   "outputs": [
    {
     "name": "stdout",
     "output_type": "stream",
     "text": [
      "K-FOLD: 0\n"
     ]
    },
    {
     "name": "stderr",
     "output_type": "stream",
     "text": [
      "Some weights of the model checkpoint at readerbench/RoBERT-base were not used when initializing BertModel: ['cls.predictions.transform.LayerNorm.bias', 'cls.seq_relationship.weight', 'cls.predictions.bias', 'cls.predictions.decoder.bias', 'cls.seq_relationship.bias', 'cls.predictions.transform.dense.bias', 'cls.predictions.decoder.weight', 'cls.predictions.transform.dense.weight', 'cls.predictions.transform.LayerNorm.weight']\n",
      "- This IS expected if you are initializing BertModel from the checkpoint of a model trained on another task or with another architecture (e.g. initializing a BertForSequenceClassification model from a BertForPreTraining model).\n",
      "- This IS NOT expected if you are initializing BertModel from the checkpoint of a model that you expect to be exactly identical (initializing a BertForSequenceClassification model from a BertForSequenceClassification model).\n",
      "[2023-03-26 05:10:48,201] torch._inductor.utils: [WARNING] using triton random, expect difference from eager\n",
      "[2023-03-26 05:11:43,965] torch._inductor.utils: [WARNING] using triton random, expect difference from eager\n"
     ]
    },
    {
     "name": "stdout",
     "output_type": "stream",
     "text": [
      "Train Epoch 0 - Loss: 0.37907877564430237, Accuracy: 0.8076638265635194\n",
      "Validation - Loss: 0.7541513442993164, Accuracy: 0.8504680025117323\n",
      "Train Epoch 1 - Loss: 0.12262720614671707, Accuracy: 0.927834966693718\n",
      "Validation - Loss: 0.39138221740722656, Accuracy: 0.9269170328672871\n",
      "Train Epoch 2 - Loss: 0.07488896697759628, Accuracy: 0.954644969496556\n",
      "Validation - Loss: 0.2906076908111572, Accuracy: 0.9543438383467815\n",
      "Last Epoch - Loss: 0.07488896697759628, Accuracy: 0.954644969496556\n",
      "K-FOLD: 1\n"
     ]
    },
    {
     "name": "stderr",
     "output_type": "stream",
     "text": [
      "Some weights of the model checkpoint at readerbench/RoBERT-base were not used when initializing BertModel: ['cls.predictions.transform.LayerNorm.bias', 'cls.seq_relationship.weight', 'cls.predictions.bias', 'cls.predictions.decoder.bias', 'cls.seq_relationship.bias', 'cls.predictions.transform.dense.bias', 'cls.predictions.decoder.weight', 'cls.predictions.transform.dense.weight', 'cls.predictions.transform.LayerNorm.weight']\n",
      "- This IS expected if you are initializing BertModel from the checkpoint of a model trained on another task or with another architecture (e.g. initializing a BertForSequenceClassification model from a BertForPreTraining model).\n",
      "- This IS NOT expected if you are initializing BertModel from the checkpoint of a model that you expect to be exactly identical (initializing a BertForSequenceClassification model from a BertForSequenceClassification model).\n",
      "[2023-03-26 05:14:12,308] torch._inductor.utils: [WARNING] using triton random, expect difference from eager\n",
      "[2023-03-26 05:15:06,615] torch._inductor.utils: [WARNING] using triton random, expect difference from eager\n"
     ]
    },
    {
     "name": "stdout",
     "output_type": "stream",
     "text": [
      "Train Epoch 0 - Loss: 0.36746853590011597, Accuracy: 0.8092023994429317\n",
      "Validation - Loss: 0.5265306234359741, Accuracy: 0.8888479597850806\n",
      "Train Epoch 1 - Loss: 0.12394855916500092, Accuracy: 0.9250771357040548\n",
      "Validation - Loss: 0.2795581817626953, Accuracy: 0.9469968380156746\n",
      "Train Epoch 2 - Loss: 0.0714215636253357, Accuracy: 0.9573261392593532\n",
      "Validation - Loss: 0.2557101249694824, Accuracy: 0.9576033332792567\n",
      "Last Epoch - Loss: 0.0714215636253357, Accuracy: 0.9573261392593532\n",
      "K-FOLD: 2\n"
     ]
    },
    {
     "name": "stderr",
     "output_type": "stream",
     "text": [
      "Some weights of the model checkpoint at readerbench/RoBERT-base were not used when initializing BertModel: ['cls.predictions.transform.LayerNorm.bias', 'cls.seq_relationship.weight', 'cls.predictions.bias', 'cls.predictions.decoder.bias', 'cls.seq_relationship.bias', 'cls.predictions.transform.dense.bias', 'cls.predictions.decoder.weight', 'cls.predictions.transform.dense.weight', 'cls.predictions.transform.LayerNorm.weight']\n",
      "- This IS expected if you are initializing BertModel from the checkpoint of a model trained on another task or with another architecture (e.g. initializing a BertForSequenceClassification model from a BertForPreTraining model).\n",
      "- This IS NOT expected if you are initializing BertModel from the checkpoint of a model that you expect to be exactly identical (initializing a BertForSequenceClassification model from a BertForSequenceClassification model).\n",
      "[2023-03-26 05:17:33,125] torch._inductor.utils: [WARNING] using triton random, expect difference from eager\n",
      "[2023-03-26 05:18:27,751] torch._inductor.utils: [WARNING] using triton random, expect difference from eager\n"
     ]
    },
    {
     "name": "stdout",
     "output_type": "stream",
     "text": [
      "Train Epoch 0 - Loss: 0.36738917231559753, Accuracy: 0.8130452710033058\n",
      "Validation - Loss: 0.5756785273551941, Accuracy: 0.8747990787406189\n",
      "Train Epoch 1 - Loss: 0.12595921754837036, Accuracy: 0.9240661831629079\n",
      "Validation - Loss: 0.30370232462882996, Accuracy: 0.9394628344144527\n",
      "Train Epoch 2 - Loss: 0.07247365266084671, Accuracy: 0.9573483879932192\n",
      "Validation - Loss: 0.30878087878227234, Accuracy: 0.9534650119518429\n",
      "Last Epoch - Loss: 0.07247365266084671, Accuracy: 0.9573483879932192\n",
      "K-FOLD: 3\n"
     ]
    },
    {
     "name": "stderr",
     "output_type": "stream",
     "text": [
      "Some weights of the model checkpoint at readerbench/RoBERT-base were not used when initializing BertModel: ['cls.predictions.transform.LayerNorm.bias', 'cls.seq_relationship.weight', 'cls.predictions.bias', 'cls.predictions.decoder.bias', 'cls.seq_relationship.bias', 'cls.predictions.transform.dense.bias', 'cls.predictions.decoder.weight', 'cls.predictions.transform.dense.weight', 'cls.predictions.transform.LayerNorm.weight']\n",
      "- This IS expected if you are initializing BertModel from the checkpoint of a model trained on another task or with another architecture (e.g. initializing a BertForSequenceClassification model from a BertForPreTraining model).\n",
      "- This IS NOT expected if you are initializing BertModel from the checkpoint of a model that you expect to be exactly identical (initializing a BertForSequenceClassification model from a BertForSequenceClassification model).\n",
      "[2023-03-26 05:20:56,653] torch._inductor.utils: [WARNING] using triton random, expect difference from eager\n",
      "[2023-03-26 05:21:51,381] torch._inductor.utils: [WARNING] using triton random, expect difference from eager\n"
     ]
    },
    {
     "name": "stdout",
     "output_type": "stream",
     "text": [
      "Train Epoch 0 - Loss: 0.3622134327888489, Accuracy: 0.8076574646968712\n",
      "Validation - Loss: 0.6207423806190491, Accuracy: 0.8729321141059828\n",
      "Train Epoch 1 - Loss: 0.1228179931640625, Accuracy: 0.9249218346761849\n",
      "Validation - Loss: 0.39753177762031555, Accuracy: 0.929282940485413\n",
      "Train Epoch 2 - Loss: 0.07748803496360779, Accuracy: 0.9543481955892396\n",
      "Validation - Loss: 0.25379422307014465, Accuracy: 0.9560811660197744\n",
      "Last Epoch - Loss: 0.07748803496360779, Accuracy: 0.9543481955892396\n",
      "K-FOLD: 4\n"
     ]
    },
    {
     "name": "stderr",
     "output_type": "stream",
     "text": [
      "Some weights of the model checkpoint at readerbench/RoBERT-base were not used when initializing BertModel: ['cls.predictions.transform.LayerNorm.bias', 'cls.seq_relationship.weight', 'cls.predictions.bias', 'cls.predictions.decoder.bias', 'cls.seq_relationship.bias', 'cls.predictions.transform.dense.bias', 'cls.predictions.decoder.weight', 'cls.predictions.transform.dense.weight', 'cls.predictions.transform.LayerNorm.weight']\n",
      "- This IS expected if you are initializing BertModel from the checkpoint of a model trained on another task or with another architecture (e.g. initializing a BertForSequenceClassification model from a BertForPreTraining model).\n",
      "- This IS NOT expected if you are initializing BertModel from the checkpoint of a model that you expect to be exactly identical (initializing a BertForSequenceClassification model from a BertForSequenceClassification model).\n",
      "[2023-03-26 05:25:51,575] torch._inductor.utils: [WARNING] using triton random, expect difference from eager\n",
      "[2023-03-26 05:26:46,640] torch._inductor.utils: [WARNING] using triton random, expect difference from eager\n"
     ]
    },
    {
     "name": "stdout",
     "output_type": "stream",
     "text": [
      "Train Epoch 0 - Loss: 0.36008015275001526, Accuracy: 0.8144779474193496\n",
      "Validation - Loss: 0.7480453848838806, Accuracy: 0.8413211572233013\n",
      "Train Epoch 1 - Loss: 0.12754592299461365, Accuracy: 0.9254581398926334\n",
      "Validation - Loss: 0.4362753927707672, Accuracy: 0.9184028295577581\n",
      "Train Epoch 2 - Loss: 0.07474146038293839, Accuracy: 0.9563970703185135\n",
      "Validation - Loss: 0.267004132270813, Accuracy: 0.9568531626736474\n",
      "Last Epoch - Loss: 0.07474146038293839, Accuracy: 0.9563970703185135\n"
     ]
    }
   ],
   "source": [
    "# Inspired from: https://scikit-learn.org/stable/modules/generated/sklearn.model_selection.KFold.html\n",
    "kf = StratifiedKFold(n_splits=5, shuffle=True, random_state=SEED)\n",
    "models: List[nn.Module] = []\n",
    "\n",
    "for i, (train_idx, valid_idx) in enumerate(kf.split(train_dataset, train_dataset.classes)):\n",
    "    print('K-FOLD: {}'.format(i))\n",
    "    \n",
    "    # Reinitialize the model\n",
    "    model: nn.Module = model_factory()\n",
    "    optimizer: optim.Optimizer = optim_factory(model.parameters())\n",
    "\n",
    "    # Split the data\n",
    "    train_subset = Subset(train_dataset, train_idx)\n",
    "    valid_subset = Subset(train_dataset, valid_idx)\n",
    "\n",
    "    # Inverse frequency count for random sampling\n",
    "    inv_freq = torch.tensor(list(train_dataset.class_to_freq.get(int(t['label'])) for t in train_subset))\n",
    "\n",
    "    # Create WeightedRandomSampler\n",
    "    wrs = WeightedRandomSampler(inv_freq, len(train_subset), replacement=True)\n",
    "\n",
    "    # Create the dataloaders\n",
    "    train_loader = DataLoader(train_subset, args.batch_size, sampler=wrs)\n",
    "    valid_loader = DataLoader(train_subset, args.batch_size)\n",
    "\n",
    "    # --- Validation ---\n",
    "    def validation_pass() -> None:\n",
    "        # --- Validation ---\n",
    "        valid_output: Output = evaluate(\n",
    "            model=model,\n",
    "            loss_fn=loss_fn,\n",
    "            data_loader=valid_loader,\n",
    "            with_labels=True,\n",
    "            class_to_label=train_dataset.class_to_label,\n",
    "            device=DEVICE\n",
    "        )\n",
    "        print('Validation - Loss: {}, Accuracy: {}'.format(valid_output.loss_mean, valid_output.accy_mean))\n",
    "\n",
    "    # --- Training ---\n",
    "    train_output: Output = train(\n",
    "        model=model,\n",
    "        optimizer=optimizer,\n",
    "        loss_fn=loss_fn,\n",
    "        data_loader=train_loader,\n",
    "        class_to_label=train_dataset.class_to_label,\n",
    "        args=args,\n",
    "        device=DEVICE,\n",
    "        valid_callback=validation_pass,\n",
    "    )\n",
    "    print('Last Epoch - Loss: {}, Accuracy: {}'.format(train_output.loss_mean, train_output.accy_mean))\n",
    "    models.append(model)"
   ]
  },
  {
   "cell_type": "code",
   "execution_count": 11,
   "metadata": {},
   "outputs": [],
   "source": [
    "majority = Ensemble(models)"
   ]
  },
  {
   "attachments": {},
   "cell_type": "markdown",
   "metadata": {},
   "source": [
    "Training on the Whole Dataset"
   ]
  },
  {
   "cell_type": "code",
   "execution_count": null,
   "metadata": {},
   "outputs": [],
   "source": [
    "# Reinitialize the model\n",
    "model: nn.Module = model_factory()\n",
    "optimizer: optim.Optimizer = optim_factory(model.parameters())\n",
    "\n",
    "# Create the dataloaders\n",
    "train_loader = DataLoader(train_dataset, args.batch_size, shuffle=True)\n",
    "\n",
    "# --- Training ---\n",
    "train_output: Output = train(\n",
    "    model=model,\n",
    "    optimizer=optimizer,\n",
    "    loss_fn=loss_fn,\n",
    "    data_loader=train_loader,\n",
    "    class_to_label=train_dataset.class_to_label,\n",
    "    args=args,\n",
    "    device=DEVICE,\n",
    ")\n",
    "print('Last Epoch - Loss: {}, Accuracy: {}'.format(train_output.loss_mean, train_output.accy_mean))"
   ]
  },
  {
   "attachments": {},
   "cell_type": "markdown",
   "metadata": {},
   "source": [
    "Prediction"
   ]
  },
  {
   "cell_type": "code",
   "execution_count": 17,
   "metadata": {},
   "outputs": [],
   "source": [
    "test_loader: DataLoader = DataLoader(test_dataset, batch_size=args.batch_size, shuffle=False)\n",
    "test_output: Output = evaluate(\n",
    "    model=majority,\n",
    "    loss_fn=loss_fn,\n",
    "    data_loader=test_loader,\n",
    "    with_labels=False,\n",
    "    class_to_label=train_dataset.class_to_label,\n",
    "    device=DEVICE\n",
    ")"
   ]
  },
  {
   "cell_type": "code",
   "execution_count": 18,
   "metadata": {},
   "outputs": [
    {
     "data": {
      "text/plain": [
       "<Axes: >"
      ]
     },
     "execution_count": 18,
     "metadata": {},
     "output_type": "execute_result"
    },
    {
     "data": {
      "image/png": "[encoded data removed]",
      "text/plain": [
       "<Figure size 640x480 with 1 Axes>"
      ]
     },
     "metadata": {},
     "output_type": "display_data"
    }
   ],
   "source": [
    "output: pd.DataFrame = pd.DataFrame({ 'Label': pd.Series(data=test_output.predictions_as_text) })\n",
    "output = output.reset_index()\n",
    "output = output.rename(columns={ 'index': 'Id' })\n",
    "output.to_csv(SUBMISSIONS_DIR_PATH / 'submission_14.csv', index=False)\n",
    "output['Label'].hist()"
   ]
  },
  {
   "cell_type": "code",
   "execution_count": null,
   "metadata": {},
   "outputs": [],
   "source": [
    "# Free memory\n",
    "# del model\n",
    "# gc.collect()\n",
    "# torch.cuda.empty_cache()"
   ]
  }
 ],
 "metadata": {
  "kernelspec": {
   "display_name": "nitro-lang-processing-2-mFR9zZTH-py3.10",
   "language": "python",
   "name": "python3"
  },
  "language_info": {
   "codemirror_mode": {
    "name": "ipython",
    "version": 3
   },
   "file_extension": ".py",
   "mimetype": "text/x-python",
   "name": "python",
   "nbconvert_exporter": "python",
   "pygments_lexer": "ipython3",
   "version": "3.10.9"
  },
  "orig_nbformat": 4
 },
 "nbformat": 4,
 "nbformat_minor": 2
}
