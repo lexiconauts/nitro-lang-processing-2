{
  "nbformat": 4,
  "nbformat_minor": 0,
  "metadata": {
    "colab": {
      "provenance": []
    },
    "kernelspec": {
      "name": "python3",
      "display_name": "Python 3"
    },
    "language_info": {
      "name": "python"
    }
  },
  "cells": [
    {
      "cell_type": "code",
      "source": [
        "!pip install emot==2.1\n",
        "from emot.emo_unicode import UNICODE_EMO,EMOTICONS"
      ],
      "metadata": {
        "colab": {
          "base_uri": "https://localhost:8080/"
        },
        "id": "k9QUVmNWJ5Yz",
        "outputId": "dd85d863-1556-4831-af14-7192eef4103c"
      },
      "execution_count": null,
      "outputs": [
        {
          "output_type": "stream",
          "name": "stdout",
          "text": [
            "Looking in indexes: https://pypi.org/simple, https://us-python.pkg.dev/colab-wheels/public/simple/\n",
            "Collecting emot==2.1\n",
            "  Downloading emot-2.1-py3-none-any.whl (27 kB)\n",
            "Installing collected packages: emot\n",
            "Successfully installed emot-2.1\n"
          ]
        }
      ]
    },
    {
      "cell_type": "code",
      "execution_count": null,
      "metadata": {
        "id": "E6Mtw66TIn9D"
      },
      "outputs": [],
      "source": [
        "import pandas as pd\n",
        "\n",
        "\n",
        "train_data = pd.read_csv('train_data.csv')\n",
        "\n",
        "emojis = {\n",
        "'😃':'râs',\n",
        "'👍': 'ok',\n",
        "'😀':'râs',\n",
        "'😄':'râs',\n",
        "'😁':'râs',\n",
        "'😆':'râs',\n",
        "'😅':'râs',\n",
        "'🤣':'râs',\n",
        "'😂':'râs',\n",
        "'🙂':'zâmbet',\n",
        "'🙃':'zâmbet',\n",
        "'😉':'fac cu ochiul',\n",
        "'😊':'zâmbet',\n",
        "'😇':'zâmbet înger',\n",
        "'🥰':'zâmbet afecțiune',\n",
        "'😍':'zâmbet îndragostit',\n",
        "'🤩':'zâmbet wow',\n",
        "'😘':'inimă sărut',\n",
        "'😗':'sărut',\n",
        "'😚':'pupic',\n",
        "'😙':'pupic',\n",
        "'😋':'satisfăcut',\n",
        "'😛':'limba scoasă',\n",
        "'😜':'limba scoasă',\n",
        "'🤪':'limba scoasă',\n",
        "'😝':'limba scoasă',\n",
        "'🤗':'îmbrățișare',\n",
        "'🤭':'zâmbet timid',\n",
        "'🤫':'liniște',\n",
        "'🤔':'gânditor',\n",
        "'🤐':'tac',\n",
        "'🤨':'îngrijorat',\n",
        "'😐':'fără cuvinte',\n",
        "'😑':'fără cuvinte',\n",
        "'😶':'fără cuvinte',\n",
        "'😏':'zâmbet subtil',\n",
        "'😒':'supărat',\n",
        "'🙄':'dat ochi peste cap',\n",
        "'😬':'frică',\n",
        "'🤥':'mincinos',\n",
        "'😔':'trist',\n",
        "'😪':'trist lacrimă',\n",
        "'🤤':'poftă',\n",
        "'😴':'somn',\n",
        "'😷':'mască',\n",
        "'🤒':'bolnav',\n",
        "'🤕':'bolnav',\n",
        "'🤢':'bolnav vomă',\n",
        "'🤮':'vomă',\n",
        "'🤧':'bolnav',\n",
        "'🥵':'cald excitat',\n",
        "'🥶':'frig teamă',\n",
        "'🥴':'amețit',\n",
        "'😵':'mirat',\n",
        "'🤯':'mirat',\n",
        "'🤠':'cowboy',\n",
        "'🥳':'petrecere',\n",
        "'😎':'smecher',\n",
        "'🤓':'tocilar',\n",
        "'🧐':'bogat',\n",
        "'😕':'mâhnit',\n",
        "'😟':'supărat',\n",
        "'🙁':'supărat',\n",
        "'😮':'impresionat',\n",
        "'😯':'impresionat',\n",
        "'😲':'impresionat',\n",
        "'😳':'speriat',\n",
        "'🥺':'milă',\n",
        "'😦':'uimit',\n",
        "'😧':'uimit',\n",
        "'😨':'speriat',\n",
        "'😰':'speriat',\n",
        "'😥':'trist lacrima',\n",
        "'😢':'plâns',\n",
        "'😭':'plâns',\n",
        "'😱':'speriat',\n",
        "'😖':'supărat',\n",
        "'😣':'supărat',\n",
        "'😞':'supărat',\n",
        "'😓':'supărat',\n",
        "'😩':'supărat',\n",
        "'😫':'supărat',\n",
        "'🥱':'somnoros',\n",
        "'😤':'nervos',\n",
        "'😡':'nervos',\n",
        "'😠':'nervos',\n",
        "'🌺':'floare',\n",
        "'🤬':'nervos înjurătură'\n",
        "}\n",
        "\n",
        "def replacer(x):\n",
        "  for emoji_face, emoji_text in emojis.items():\n",
        "    x = x.replace(emoji_face, emoji_text)\n",
        "  return x\n",
        "\n",
        "text = train_data['Text']\n",
        "text = text.apply(lambda x: replacer(x))\n",
        "\n",
        "train_data['Text'] = text\n",
        "\n",
        "train_data.to_csv('edited.csv', index=False)\n"
      ]
    }
  ]
}